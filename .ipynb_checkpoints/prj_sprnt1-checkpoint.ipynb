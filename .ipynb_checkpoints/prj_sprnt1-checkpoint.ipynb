{
 "cells": [
  {
   "cell_type": "code",
   "execution_count": 27,
   "metadata": {},
   "outputs": [],
   "source": [
    "import numpy as np\n",
    "import pandas as pd\n",
    "import sys as sy\n",
    "import matplotlib.pyplot as plt\n",
    "\n",
    "from sklearn.model_selection import train_test_split\n",
    "from sklearn.preprocessing import StandardScaler\n",
    "from sklearn.metrics import mean_squared_error, r2_score\n",
    "\n",
    "from sklearn.metrics import accuracy_score\n",
    "from sklearn.neighbors import KNeighborsClassifier\n",
    "import matplotlib.pyplot as plt\n",
    "\n",
    "from sklearn.kernel_ridge import KernelRidge\n",
    "from sklearn.ensemble import RandomForestRegressor\n",
    "from sklearn.svm import SVR"
   ]
  },
  {
   "cell_type": "code",
   "execution_count": 28,
   "metadata": {},
   "outputs": [
    {
     "name": "stdout",
     "output_type": "stream",
     "text": [
      "Training accuracy for KRR\n",
      "0.3669673969702014\n",
      "MSE train: 0.006, test:0.006\n",
      "R^2 value train: 0.367, test:0.351\n",
      "Training accuracy for RFR\n",
      "0.9387709863258721\n",
      "MSE train: 0.001, test:0.004\n",
      "R^2 value train: 0.939, test:0.545\n"
     ]
    },
    {
     "name": "stderr",
     "output_type": "stream",
     "text": [
      "/home/ayon/anaconda3/lib/python3.7/site-packages/sklearn/svm/base.py:193: FutureWarning: The default value of gamma will change from 'auto' to 'scale' in version 0.22 to account better for unscaled features. Set gamma explicitly to 'auto' or 'scale' to avoid this warning.\n",
      "  \"avoid this warning.\", FutureWarning)\n"
     ]
    },
    {
     "name": "stdout",
     "output_type": "stream",
     "text": [
      "Training accuracy for SVR\n",
      "0.11677947960519308\n",
      "MSE train: 0.008, test:0.008\n",
      "R^2 value train: 0.117, test:0.063\n"
     ]
    }
   ],
   "source": [
    "df = pd.read_csv(\"PWM_Thrust_dataset.csv\")\n",
    "df= np.array(df)\n",
    "X = df[:,0:df.shape[1]-1]\n",
    "y= df[:,-1]\n",
    "\n",
    "X_train, X_test, y_train, y_test = train_test_split(X, y, test_size=0.3, random_state=1)\n",
    "\n",
    "\n",
    "krr = KernelRidge(alpha=1.0)\n",
    "krr.fit(X_train, y_train)\n",
    "\n",
    "print (\"Training accuracy for KRR\")\n",
    "print (clf.score(X_train,y_train))\n",
    "\n",
    "y_train_pred= krr.predict(X_train)\n",
    "y_test_pred= krr.predict(X_test)\n",
    "\n",
    "\n",
    "r2_train = r2_score(y_train, y_train_pred)\n",
    "r2_test = r2_score(y_test, y_test_pred)\n",
    "error_train= mean_squared_error(y_train, y_train_pred)\n",
    "error_test= mean_squared_error(y_test, y_test_pred) \n",
    "print('MSE train: %.3f, test:%.3f' % (error_train, error_test)) \n",
    "print('R^2 value train: %.3f, test:%.3f' % (r2_train, r2_test))\n",
    "\n",
    "\n",
    "forest = RandomForestRegressor(n_estimators=1000, criterion='mse', random_state=1, n_jobs=10)\n",
    "forest.fit(X_train, y_train)\n",
    "\n",
    "print (\"Training accuracy for RFR\")\n",
    "print (forest.score(X_train,y_train))\n",
    "\n",
    "y_train_pred = forest.predict(X_train)\n",
    "\n",
    "y_test_pred = forest.predict(X_test)\n",
    "\n",
    "\n",
    "r2_train = r2_score(y_train, y_train_pred)\n",
    "r2_test = r2_score(y_test, y_test_pred)\n",
    "error_train= mean_squared_error(y_train, y_train_pred)\n",
    "error_test= mean_squared_error(y_test, y_test_pred) \n",
    "print('MSE train: %.3f, test:%.3f' % (error_train, error_test)) \n",
    "print('R^2 value train: %.3f, test:%.3f' % (r2_train, r2_test))\n",
    "\n",
    "\n",
    "sv = SVR(C=1.0, epsilon=0.2)\n",
    "sv.fit(X_train, y_train)\n",
    "\n",
    "print (\"Training accuracy for SVR\")\n",
    "print (sv.score(X_train,y_train))\n",
    "\n",
    "y_train_pred = sv.predict(X_train)\n",
    "\n",
    "y_test_pred = sv.predict(X_test)\n",
    "\n",
    "\n",
    "r2_train = r2_score(y_train, y_train_pred)\n",
    "r2_test = r2_score(y_test, y_test_pred)\n",
    "error_train= mean_squared_error(y_train, y_train_pred)\n",
    "error_test= mean_squared_error(y_test, y_test_pred) \n",
    "print('MSE train: %.3f, test:%.3f' % (error_train, error_test)) \n",
    "print('R^2 value train: %.3f, test:%.3f' % (r2_train, r2_test))\n"
   ]
  },
  {
   "cell_type": "code",
   "execution_count": null,
   "metadata": {},
   "outputs": [],
   "source": []
  }
 ],
 "metadata": {
  "kernelspec": {
   "display_name": "Python 3",
   "language": "python",
   "name": "python3"
  },
  "language_info": {
   "codemirror_mode": {
    "name": "ipython",
    "version": 3
   },
   "file_extension": ".py",
   "mimetype": "text/x-python",
   "name": "python",
   "nbconvert_exporter": "python",
   "pygments_lexer": "ipython3",
   "version": "3.7.4"
  }
 },
 "nbformat": 4,
 "nbformat_minor": 2
}
